{
 "cells": [
  {
   "cell_type": "code",
   "execution_count": 164,
   "metadata": {
    "collapsed": true
   },
   "outputs": [
    {
     "name": "stdout",
     "output_type": "stream",
     "text": [
      "[2.36, 2.16, 1.96, 1.76, 1.56, 1.36, 1.16, 0.96, 0.76, 0.56, 0.36, 0.16, -0.04, -0.24, -0.44, -0.64, -0.84, -1.04, -1.2, -1.4, -1.6, -1.8, -2.04, -2.24, -2.44]\n"
     ]
    }
   ],
   "source": [
    "import numpy as np\n",
    "import math\n",
    "\n",
    "frequency_string = '{:[2.36],[2.16],[1.96],[1.76],[1.56],[1.36],[1.16],[0.96],[0.76],[0.56],[0.36],[0.16],[-0.04],[-0.24],[-0.44],[-0.64],[-0.84],[-1.04],[-1.2],[-1.4],[-1.6],[-1.8],[-2.04],[-2.24],[-2.44]:}'\n",
    "\n",
    "gp_150_string = '{:[5.63],[5.56],[5.50],[5.45],[5.42],[5.39],[5.36],[5.35],[5.34],[5.33],[5.32],[5.31],[5.31]:}'\n",
    "gdp_150_string = '{:[5.41],[5.31],[5.20],[5.08],[4.97],[4.85],[4.72],[4.60],[4.46],[4.34],[4.23],[4.14],[4.05]:}'\n",
    "gp_160_string = '{:[5.44],[5.41],[5.39],[5.37],[5.35],[5.34],[5.33],[5.32],[5.32],[5.31],[5.31],[5.31],[5.30],[5.30],[5.29],[5.29],[5.29]:}'\n",
    "gdp_160_string = '{:[5.05],[4.93],[4.81],[4.68],[4.55],[4.42],[4.30],[4.18],[4.04],[4.01],[3.96],[3.97],[3.98],[3.98],[3.99],[4.04],[4.07]:}'\n",
    "gp_180_string = '{:[5.35],[5.34],[5.34],[5.33],[5.33],[5.32],[5.32],[5.31],[5.31],[5.30],[5.30],[5.29],[5.29],[5.28],[5.27],[5.26],[5.26],[5.25]:}'\n",
    "gdp_180_string = '{:[4.41],[4.29],[4.19],[4.09],[4.00],[3.96],[3.93],[3.93],[3.93],[3.94],[3.98],[4.02],[4.07],[4.12],[4.18],[4.22],[4.25],[4.30]:}'\n",
    "gp_200_string = '{:[5.33],[5.33],[5.32],[5.32],[5.31],[5.31],[5.30],[5.30],[5.29],[5.29],[5.28],[5.27],[5.26],[5.25],[5.24],[5.22],[5.20],[5.18]:}'\n",
    "gdp_200_string = '{:[4.08],[4.03],[3.98],[3.97],[3.98],[3.97],[3.98],[4.02],[4.05],[4.08],[4.14],[4.18],[4.21],[4.25],[4.29],[4.35],[4.38],[4.42]:}'\n",
    "gp_220_string = '{:[5.32],[5.31],[5.31],[5.30],[5.30],[5.29],[5.29],[5.28],[5.27],[5.26],[5.25],[5.24],[5.22],[5.20],[5.19],[5.17],[5.14],[5.11],[5.08],[5.03],[4.98],[4.90],[4.80]:}'\n",
    "gdp_220_string = '{:[3.97],[3.96],[3.96],[3.98],[4.00],[4.00],[4.05],[4.08],[4.15],[4.23],[4.25],[4.29],[4.33],[4.35],[4.40],[4.45],[4.49],[4.53],[4.57],[4.61],[4.64],[4.67],[4.68]:}'\n",
    "gp_270_string = '{:[5.27],[5.26],[5.25],[5.24],[5.22],[5.21],[5.19],[5.17],[5.15],[5.12],[5.08],[5.04],[4.97],[4.90],[4.80],[4.67],[4.50],[4.26],[3.97],[3.64],[3.25]:}'\n",
    "gdp_270_string = '{:[4.16],[4.20],[4.24],[4.30],[4.33],[4.36],[4.41],[4.44],[4.48],[4.52],[4.56],[4.60],[4.63],[4.66],[4.67],[4.65],[4.60],[4.51],[4.37],[4.19],[3.99]:}'\n",
    "\n",
    "# remove the curly braces, square brackets and split by comma to get individual values\n",
    "#frequency_string_stripped = frequency_string.strip('{}[]:').split(',')\n",
    "#gp_150_string_stripped = gp_150_string.strip('{}[]:').split(',')\n",
    "#gdp_150_string_stripped =gdp_150_string.strip('{}[]:').split(',')\n",
    "\n",
    "strings_to_strip = [frequency_string, gp_150_string, gdp_150_string, gp_160_string, gdp_160_string, gp_180_string, gdp_180_string, gp_200_string, gdp_200_string, gp_220_string, gdp_220_string, gp_270_string, gdp_270_string]\n",
    "stripped_strings = []\n",
    "\n",
    "for string in strings_to_strip:\n",
    "    stripped_string = string.strip('{}[]:').split(',')\n",
    "    stripped_strings.append(stripped_string)\n",
    "\n",
    "frequency_string_stripped, gp_150_string_stripped, gdp_150_string_stripped, gp_160_string_stripped, gdp_160_string_stripped, gp_180_string_stripped, gdp_180_string_stripped, gp_200_string_stripped, gdp_200_string_stripped, gp_220_string_stripped, gdp_220_string_stripped, gp_270_string_stripped, gdp_270_string_stripped = stripped_strings\n",
    "\n",
    "\n",
    "\n",
    "lists_to_convert = [frequency_string_stripped, gp_150_string_stripped, gdp_150_string_stripped, gp_160_string_stripped, gdp_160_string_stripped, gp_180_string_stripped, gdp_180_string_stripped, gp_200_string_stripped, gdp_200_string_stripped, gp_220_string_stripped, gdp_220_string_stripped, gp_270_string_stripped, gdp_270_string_stripped]\n",
    "converted_lists = []\n",
    "\n",
    "for arr in lists_to_convert:\n",
    "    converted_list = [float(val.strip('[]')) for val in arr]\n",
    "    converted_lists.append(converted_list)\n",
    "\n",
    "frequency_list, gp_150_list, gdp_150_list, gp_160_list, gdp_160_list, gp_180_list, gdp_180_list, gp_200_list, gdp_200_list, gp_220_list, gdp_220_list, gp_270_list, gdp_270_list = converted_lists\n",
    "\n",
    "lists_to_exponentiate = [frequency_list, gp_150_list, gdp_150_list, gp_160_list, gdp_160_list, gp_180_list, gdp_180_list, gp_200_list, gdp_200_list, gp_220_list, gdp_220_list, gp_270_list, gdp_270_list]\n",
    "print(frequency_list)\n"
   ]
  },
  {
   "cell_type": "code",
   "execution_count": 165,
   "outputs": [
    {
     "name": "stdout",
     "output_type": "stream",
     "text": [
      "[206.43797415630826, 206.43797415630826, 204.38388199296807, 204.38388199296807, 202.35022838814749, 202.35022838814749, 200.33680997479166, 200.33680997479166, 198.34342540938118, 198.34342540938118, 196.3698753517984, 194.41596244539272, 192.4814912972456, 190.56626845863, 188.670102405666, 184.9341840706834, 181.27224187515122, 177.6828109933644]\n",
      "[59.14546984988227, 56.26091124712785, 53.51703422749116, 52.98453083967617, 53.51703422749116, 52.98453083967617, 53.51703422749116, 55.70110582679559, 57.39745704544619, 59.14546984988227, 62.80282144920165, 65.3658532140099, 67.35653981011657, 70.10541234668786, 72.96646849963281, 77.47846292526083, 79.8380334050845, 83.09628535834376]\n",
      "[2.36, 2.16, 1.96, 1.76, 1.56, 1.36, 1.16, 0.96, 0.76, 0.56, 0.36, 0.16, -0.04, -0.24, -0.44, -0.64, -0.84, -1.04, -1.2, -1.4, -1.6, -1.8, -2.04, -2.24, -2.44]\n"
     ]
    }
   ],
   "source": [
    "\n",
    "import numpy as np\n",
    "\n",
    "lists_to_exponentiate = [frequency_list, gp_150_list, gdp_150_list, gp_160_list, gdp_160_list, gp_180_list, gdp_180_list, gp_200_list, gdp_200_list, gp_220_list, gdp_220_list, gp_270_list, gdp_270_list]\n",
    "exponentiated_lists = []\n",
    "\n",
    "for lst in lists_to_exponentiate:\n",
    "    exponentiated_list = np.exp(lst).tolist()\n",
    "    exponentiated_lists.append(exponentiated_list)\n",
    "\n",
    "frequency_list_exponentiated, storage_150, loss_150, storage_160, loss_160, storage_180, loss_180, storage_200, loss_200, storage_220, loss_220, storage_270, loss_270 = exponentiated_lists\n",
    "\n",
    "storage_moduli = [storage_150, storage_160, storage_180, storage_200, storage_220, storage_270]\n",
    "loss_moduli = [loss_150, loss_160, loss_180, loss_200, loss_220, loss_270]\n",
    "\n",
    "print(storage_200)\n",
    "print(loss_200)\n",
    "\n",
    "print(frequency_list)"
   ],
   "metadata": {
    "collapsed": false,
    "pycharm": {
     "name": "#%%\n"
    }
   }
  },
  {
   "cell_type": "code",
   "execution_count": 142,
   "outputs": [
    {
     "name": "stdout",
     "output_type": "stream",
     "text": [
      "[2.36, 2.16, 1.96, 1.76, 1.56, 1.36, 1.16, 0.96, 0.76, 0.56, 0.36, 0.16, -0.04, -0.24, -0.44, -0.64, -0.84, -1.04, -1.2, -1.4, -1.6, -1.8, -2.04, -2.24, -2.44]\n",
      "[0.8025187979624787, 0.778800783071405, 0.7408182206817181, 0.6907343306373547, 0.6376281516217732, 0.5827482523739896, 0.5272924240430482, 0.4723665527410147, 0.4147829116815814, 0.3715766910220456, 0.33621649370673345, 0.31036694126548503, 0.28365402649977045]\n"
     ]
    }
   ],
   "source": [
    "storage_moduli = [storage_150, storage_160, storage_180, storage_200, storage_220, storage_270]\n",
    "loss_moduli = [loss_150, loss_160, loss_180, loss_200, loss_220, loss_270]\n",
    "\n",
    "loss_tangent_150 = []\n",
    "loss_tangent_160 = []\n",
    "loss_tangent_180 = []\n",
    "loss_tangent_200 = []\n",
    "loss_tangent_220 = []\n",
    "loss_tangent_270 = []\n",
    "\n",
    "for i in range(len(storage_moduli)):\n",
    "    for j in range(len(storage_moduli[i])):\n",
    "        loss_tangent = loss_moduli[i][j] / storage_moduli[i][j]\n",
    "        if i == 0:\n",
    "            loss_tangent_150.append(loss_tangent)\n",
    "        elif i == 1:\n",
    "            loss_tangent_160.append(loss_tangent)\n",
    "        elif i == 2:\n",
    "            loss_tangent_180.append(loss_tangent)\n",
    "        elif i == 3:\n",
    "            loss_tangent_200.append(loss_tangent)\n",
    "        elif i == 4:\n",
    "            loss_tangent_220.append(loss_tangent)\n",
    "        else:\n",
    "            loss_tangent_270.append(loss_tangent)\n",
    "\n",
    "\n",
    "\n",
    "loss_tangents = [loss_tangent_150, loss_tangent_160, loss_tangent_180, loss_tangent_200, loss_tangent_220, loss_tangent_270]\n",
    "\n",
    "print(frequency_list)\n",
    "print(loss_tangent_150)"
   ],
   "metadata": {
    "collapsed": false,
    "pycharm": {
     "name": "#%%\n"
    }
   }
  },
  {
   "cell_type": "code",
   "execution_count": 172,
   "outputs": [
    {
     "name": "stdout",
     "output_type": "stream",
     "text": [
      "[[1.2460767305873803, 1.2840254166877414, 1.3498588075760027, 1.4477346146633245, 1.5683121854901692, 1.7160068621848585, 1.8964808793049526, 2.117000016612675, 2.4108997064172097, 2.691234472349263, 2.9742740725630648, 3.2219926385284996, 3.525421487365381], [1.4769807938826434, 1.6160744021928943, 1.7860384307500736, 1.993715533243083, 2.2255409284924674, 2.5092903899362975, 2.80106583469908, 3.1267683651861575, 3.596639725569282, 3.6692966676192436, 3.8574255306969727, 3.819043505366334, 3.743421377260862, 3.743421377260862, 3.6692966676192436, 3.4903429574618414, 3.3871877336213334], [2.5599814183292704, 2.857651118063163, 3.158192909689766, 3.455613464762677, 3.7810433875687814, 3.8961933017952157, 4.014850052994202, 3.974901627494746, 3.974901627494746, 3.8961933017952144, 3.743421377260862, 3.5608525623555223, 3.3871877336213334, 3.1899332761161854, 2.9742740725630648, 2.8292170143515594, 2.745601015016916, 2.5857096593158464], [3.4903429574618414, 3.669296667619244, 3.819043505366337, 3.857425530696975, 3.7810433875687792, 3.819043505366334, 3.743421377260862, 3.5966397255692826, 3.4556134647626764, 3.3534846525490236, 3.126768365186158, 2.9742740725630648, 2.8576511180631634, 2.718281828459045, 2.5857096593158464, 2.3869108535242773, 2.2704998375324066, 2.1382762204968184], [3.857425530696975, 3.8574255306969727, 3.8574255306969727, 3.743421377260862, 3.669296667619244, 3.6327865557528094, 3.4556134647626764, 3.320116922736548, 3.0648542032929997, 2.801065834699077, 2.718281828459045, 2.5857096593158464, 2.435129651289874, 2.3396468519259925, 2.203396426255937, 2.054433210643887, 1.915540829013895, 1.7860384307500734, 1.6652911949458862, 1.5219615556186337, 1.4049475905635949, 1.2586000099294783, 1.1274968515793757], [3.0343583944356736, 2.886370989267957, 2.7456010150169154, 2.5599814183292726, 2.435129651289874, 2.33964685192599, 2.181472265498202, 2.0750806076741215, 1.9542373206359394, 1.8221188003905098, 1.6820276496988873, 1.5527072185113366, 1.4049475905635935, 1.271249150321405, 1.1388283833246216, 1.0202013400267556, 0.9048374180359599, 0.7788007830714048, 0.6703200460356393, 0.5769498103804865, 0.47711391552103427]]\n"
     ]
    }
   ],
   "source": [
    "\n",
    "a = [1.234, 8.3467, 5.7678, 9.2343]\n",
    "b = [2.3434, 5.4545, 6.9089, 4.8980]\n",
    "c = [6.7879, 7.7879, 9.8988, 5.4785947]\n",
    "d = [23.234678, 4.28938, 5.19203948757, 8.12302]\n",
    "\n",
    "list1 = [storage_150, storage_160, storage_180, storage_200, storage_220, storage_270]\n",
    "list2 = [loss_150, loss_160, loss_180, loss_200, loss_220, loss_270]\n",
    "\n",
    "results = []\n",
    "\n",
    "for i in range(len(list1)):\n",
    "    result = []\n",
    "    for j in range(len(list1[i])):\n",
    "        result.append(list1[i][j] / list2[i][j])\n",
    "    results.append(result)\n",
    "\n",
    "loss_tangent_150, loss_tangent_160, loss_tangent_180, loss_tangent_200, loss_tangent_220, loss_tangent_270  = results\n",
    "\n",
    "loss_tangents = [loss_tangent_150, loss_tangent_160, loss_tangent_180, loss_tangent_200, loss_tangent_220, loss_tangent_270]\n",
    "\n",
    "print(loss_tangents)\n",
    "\n",
    "\n"
   ],
   "metadata": {
    "collapsed": false,
    "pycharm": {
     "name": "#%%\n"
    }
   }
  },
  {
   "cell_type": "code",
   "execution_count": 134,
   "outputs": [
    {
     "name": "stdout",
     "output_type": "stream",
     "text": [
      "[2.36, 2.16, 1.96, 1.76, 1.56, 1.36, 1.16, 0.96, 0.76, 0.56, 0.36, 0.16, -0.04, -0.24, -0.44, -0.64, -0.84, -1.04, -1.2, -1.4, -1.6, -1.8, -2.04, -2.24, -2.44]\n",
      "[4.72, 4.32, 3.92, 3.52, 3.12, 2.72, 2.32, 1.92, 1.52, 1.12, 0.72, 0.32, -0.08, -0.48, -0.88, -1.28, -1.68, -2.08, -2.4, -2.8, -3.2, -3.6, -4.08, -4.48, -4.88]\n"
     ]
    }
   ],
   "source": [
    "#Calculate Shifted Frequencies\n",
    "\n",
    "U = frequency_list\n",
    "A1 = 2\n",
    "# multiply the array by A1 using NumPy\n",
    "H = [A1 * x for x in U]\n",
    "print(U)\n",
    "print(H)"
   ],
   "metadata": {
    "collapsed": false,
    "pycharm": {
     "name": "#%%\n"
    }
   }
  },
  {
   "cell_type": "code",
   "execution_count": 137,
   "outputs": [
    {
     "data": {
      "text/plain": "13"
     },
     "execution_count": 137,
     "metadata": {},
     "output_type": "execute_result"
    }
   ],
   "source": [],
   "metadata": {
    "collapsed": false,
    "pycharm": {
     "name": "#%%\n"
    }
   }
  },
  {
   "cell_type": "code",
   "execution_count": 139,
   "outputs": [
    {
     "name": "stdout",
     "output_type": "stream",
     "text": [
      "[2.36, 2.16, 1.96, 1.76, 1.56, 1.36, 1.16, 0.96, 0.76, 0.56, 0.36, 0.16, -0.04]\n",
      "[4.72, 4.32, 3.92, 3.52, 3.12, 2.72, 2.32, 1.92, 1.52, 1.12, 0.72, 0.32, -0.08]\n",
      "[2.36, 2.16, 1.96, 1.76, 1.56, 1.36, 1.16, 0.96, 0.76, 0.56, 0.36, 0.16, -0.04, -0.24, -0.44, -0.64, -0.84]\n",
      "[4.72, 4.32, 3.92, 3.52, 3.12, 2.72, 2.32, 1.92, 1.52, 1.12, 0.72, 0.32, -0.08, -0.48, -0.88, -1.28, -1.68]\n"
     ]
    }
   ],
   "source": [
    "len_150 = len(gp_150_list)\n",
    "len_160 = len(gp_160_list)\n",
    "# take the first 13 values of U and store it in U_150\n",
    "U_150 = U[:len_150]\n",
    "\n",
    "# take the first 13 values of H and store it in H_150\n",
    "H_150 = H[:len_150]\n",
    "\n",
    "# take the first 17 values of U and store it in U_160\n",
    "U_160 = U[:len_160]\n",
    "\n",
    "# take the first 17 values of H and store it in H_160\n",
    "H_160 = H[:len_160]\n",
    "\n",
    "# print the results to verify\n",
    "print(U_150)\n",
    "print(H_150)\n",
    "print(U_160)\n",
    "print(H_160)"
   ],
   "metadata": {
    "collapsed": false,
    "pycharm": {
     "name": "#%%\n"
    }
   }
  },
  {
   "cell_type": "code",
   "execution_count": null,
   "outputs": [],
   "source": [],
   "metadata": {
    "collapsed": false,
    "pycharm": {
     "name": "#%%\n"
    }
   }
  }
 ],
 "metadata": {
  "kernelspec": {
   "display_name": "Python 3",
   "language": "python",
   "name": "python3"
  },
  "language_info": {
   "codemirror_mode": {
    "name": "ipython",
    "version": 2
   },
   "file_extension": ".py",
   "mimetype": "text/x-python",
   "name": "python",
   "nbconvert_exporter": "python",
   "pygments_lexer": "ipython2",
   "version": "2.7.6"
  }
 },
 "nbformat": 4,
 "nbformat_minor": 0
}