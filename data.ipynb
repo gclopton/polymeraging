{
 "cells": [
  {
   "cell_type": "code",
   "execution_count": 14,
   "metadata": {
    "collapsed": true
   },
   "outputs": [
    {
     "name": "stdout",
     "output_type": "stream",
     "text": [
      "[2.36, 2.16, 1.96, 1.76, 1.56, 1.36, 1.16, 0.96, 0.76, 0.56, 0.36, 0.16, -0.04, -0.24, -0.44, -0.64, -0.84, -1.04, -1.2, -1.4, -1.6, -1.8, -2.04, -2.24, -2.44]\n",
      "[5.63, 5.56, 5.5, 5.45, 5.42, 5.39, 5.36, 5.35, 5.34, 5.33, 5.32, 5.31, 5.31]\n",
      "[5.41, 5.31, 5.2, 5.08, 4.97, 4.85, 4.72, 4.6, 4.46, 4.34, 4.23, 4.14, 4.05]\n"
     ]
    }
   ],
   "source": [
    "\n",
    "\n",
    "\n",
    "\n",
    "\n",
    "frequency_string = '{:[2.36],[2.16],[1.96],[1.76],[1.56],[1.36],[1.16],[0.96],[0.76],[0.56],[0.36],[0.16],[-0.04],[-0.24],[-0.44],[-0.64],[-0.84],[-1.04],[-1.2],[-1.4],[-1.6],[-1.8],[-2.04],[-2.24],[-2.44]:}'\n",
    "\n",
    "gp_150_string = '{:[5.63],[5.56],[5.50],[5.45],[5.42],[5.39],[5.36],[5.35],[5.34],[5.33],[5.32],[5.31],[5.31]:}'\n",
    "gdp_150_string = '{:[5.41],[5.31],[5.20],[5.08],[4.97],[4.85],[4.72],[4.60],[4.46],[4.34],[4.23],[4.14],[4.05]:}'\n",
    "gp_160_string = '{:[5.44],[5.41],[5.39],[5.37],[5.35],[5.34],[5.33],[5.32],[5.32],[5.31],[5.31],[5.31],[5.30],[5.30],[5.29],[5.29],[5.29]:}'\n",
    "gdp_160_string = '{:[5.44],[5.41],[5.39],[5.37],[5.35],[5.34],[5.33],[5.32],[5.32],[5.31],[5.31],[5.31],[5.30],[5.30],[5.29],[5.29],[5.29]:}'\n",
    "gp_180_string = '{:[5.35],[5.34],[5.34],[5.33],[5.33],[5.32],[5.32],[5.31],[5.31],[5.30],[5.30],[5.29],[5.29],[5.28],[5.27],[5.26],[5.26],[5.25]:}'\n",
    "gdp_180_string = '{:[4.41],[4.29],[4.19],[4.09],[4.00],[3.96],[3.93],[3.93],[3.93],[3.94],[3.98],[4.02],[4.07],[4.12],[4.18],[4.22],[4.25],[4.30]:}'\n",
    "gp_200_string = '{:[5.33],[5.33],[5.32],[5.32],[5.31],[5.31],[5.30],[5.30],[5.29],[5.29],[5.28],[5.27],[5.26],[5.25],[5.24],[5.22],[5.20],[5.18]:}'\n",
    "gdp_200_string = '{:[4.08],[4.03],[3.98],[3.97],[3.98],[3.97],[3.98],[4.02],[4.05],[4.08],[4.14],[4.18],[4.21],[4.25],[4.29],[4.35],[4.38],[4.42]:}'\n",
    "gp_220_string = '{:[5.32],[5.31],[5.31],[5.30],[5.30],[5.29],[5.29],[5.28],[5.27],[5.26],[5.25],[5.24],[5.22],[5.20],[5.19],[5.17],[5.14],[5.11],[5.08],[5.03],[4.98],[4.90],[4.80]:}'\n",
    "gdp_220_string = '{:[3.97],[3.96],[3.96],[3.98],[4.00],[4.00],[4.05],[4.08],[4.15],[4.23],[4.25],[4.29],[4.33],[4.35],[4.40],[4.45],[4.49],[4.53],[4.57],[4.61],[4.64],[4.67],[4.68]:}'\n",
    "gp_270_string = '{:[5.27],[5.26],[5.25],[5.24],[5.22],[5.21],[5.19],[5.17],[5.15],[5.12],[5.08],[5.04],[4.97],[4.90],[4.80],[4.67],[4.50],[4.26],[3.97],[3.64],[3.25]:}'\n",
    "gdp_270_string = '{:[4.16],[4.20],[4.24],[4.30],[4.33],[4.36],[4.41],[4.44],[4.48],[4.52],[4.56],[4.60],[4.63],[4.66],[4.67],[4.65],[4.60],[4.51],[4.37],[4.19],[3.99]:}'\n",
    "\n",
    "# remove the curly braces, square brackets and split by comma to get individual values\n",
    "#frequency_string_stripped = frequency_string.strip('{}[]:').split(',')\n",
    "#gp_150_string_stripped = gp_150_string.strip('{}[]:').split(',')\n",
    "#gdp_150_string_stripped =gdp_150_string.strip('{}[]:').split(',')\n",
    "\n",
    "strings_to_strip = [frequency_string, gp_150_string, gdp_150_string, gp_160_string, gdp_160_string, gp_180_string, gdp_180_string, gp_200_string, gdp_200_string, gp_220_string, gdp_220_string, gp_270_string, gdp_270_string]\n",
    "stripped_strings = []\n",
    "\n",
    "for string in strings_to_strip:\n",
    "    stripped_string = string.strip('{}[]:').split(',')\n",
    "    stripped_strings.append(stripped_string)\n",
    "\n",
    "frequency_string_stripped, gp_150_string_stripped, gdp_150_string_stripped, gp_160_string_stripped, gdp_160_string_stripped, gp_180_string_stripped, gdp_180_string_stripped, gp_200_string_stripped, gdp_200_string_stripped, gp_220_string_stripped, gdp_220_string_stripped, gp_270_string_stripped, gdp_270_string_stripped= stripped_strings\n",
    "\n",
    "\n",
    "\n",
    "arrays_to_convert = [frequency_string_stripped, gp_150_string_stripped, gdp_150_string_stripped]\n",
    "converted_arrays = []\n",
    "\n",
    "for arr in arrays_to_convert:\n",
    "    converted_array = [float(val.strip('[]')) for val in arr]\n",
    "    converted_arrays.append(converted_array)\n",
    "\n",
    "frequency_array, gp_150_array, gdp_150_array = converted_arrays\n",
    "\n",
    "\n",
    "\n",
    "print(frequency_array)\n",
    "print(gp_150_array)\n",
    "print(gdp_150_array)\n",
    "# print(gp_150_array)\n",
    "\n",
    "\n",
    "\n",
    "\n"
   ]
  },
  {
   "cell_type": "code",
   "execution_count": null,
   "outputs": [],
   "source": [],
   "metadata": {
    "collapsed": false,
    "pycharm": {
     "name": "#%%\n"
    }
   }
  }
 ],
 "metadata": {
  "kernelspec": {
   "display_name": "Python 3",
   "language": "python",
   "name": "python3"
  },
  "language_info": {
   "codemirror_mode": {
    "name": "ipython",
    "version": 2
   },
   "file_extension": ".py",
   "mimetype": "text/x-python",
   "name": "python",
   "nbconvert_exporter": "python",
   "pygments_lexer": "ipython2",
   "version": "2.7.6"
  }
 },
 "nbformat": 4,
 "nbformat_minor": 0
}