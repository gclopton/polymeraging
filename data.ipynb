{
 "cells": [
  {
   "cell_type": "code",
   "execution_count": 196,
   "metadata": {
    "collapsed": true
   },
   "outputs": [
    {
     "name": "stdout",
     "output_type": "stream",
     "text": [
      "[2.36, 2.16, 1.96, 1.76, 1.56, 1.36, 1.16, 0.96, 0.76, 0.56, 0.36, 0.16, -0.04, -0.24, -0.44, -0.64, -0.84, -1.04, -1.2, -1.4, -1.6, -1.8, -2.04, -2.24, -2.44]\n",
      "[5.35, 5.34, 5.34, 5.33, 5.33, 5.32, 5.32, 5.31, 5.31, 5.3, 5.3, 5.29, 5.29, 5.28, 5.27, 5.26, 5.26, 5.25]\n"
     ]
    }
   ],
   "source": [
    "import numpy as np\n",
    "import math\n",
    "\n",
    "frequency_string = '{:[2.36],[2.16],[1.96],[1.76],[1.56],[1.36],[1.16],[0.96],[0.76],[0.56],[0.36],[0.16],[-0.04],[-0.24],[-0.44],[-0.64],[-0.84],[-1.04],[-1.2],[-1.4],[-1.6],[-1.8],[-2.04],[-2.24],[-2.44]:}'\n",
    "\n",
    "log_storage_150_string = '{:[5.63],[5.56],[5.50],[5.45],[5.42],[5.39],[5.36],[5.35],[5.34],[5.33],[5.32],[5.31],[5.31]:}'\n",
    "log_loss_150_string = '{:[5.41],[5.31],[5.20],[5.08],[4.97],[4.85],[4.72],[4.60],[4.46],[4.34],[4.23],[4.14],[4.05]:}'\n",
    "log_storage_160_string = '{:[5.44],[5.41],[5.39],[5.37],[5.35],[5.34],[5.33],[5.32],[5.32],[5.31],[5.31],[5.31],[5.30],[5.30],[5.29],[5.29],[5.29]:}'\n",
    "log_loss_160_string = '{:[5.05],[4.93],[4.81],[4.68],[4.55],[4.42],[4.30],[4.18],[4.04],[4.01],[3.96],[3.97],[3.98],[3.98],[3.99],[4.04],[4.07]:}'\n",
    "log_storage_180_string = '{:[5.35],[5.34],[5.34],[5.33],[5.33],[5.32],[5.32],[5.31],[5.31],[5.30],[5.30],[5.29],[5.29],[5.28],[5.27],[5.26],[5.26],[5.25]:}'\n",
    "log_loss_180_string = '{:[4.41],[4.29],[4.19],[4.09],[4.00],[3.96],[3.93],[3.93],[3.93],[3.94],[3.98],[4.02],[4.07],[4.12],[4.18],[4.22],[4.25],[4.30]:}'\n",
    "log_storage_200_string = '{:[5.33],[5.33],[5.32],[5.32],[5.31],[5.31],[5.30],[5.30],[5.29],[5.29],[5.28],[5.27],[5.26],[5.25],[5.24],[5.22],[5.20],[5.18]:}'\n",
    "log_loss_200_string = '{:[4.08],[4.03],[3.98],[3.97],[3.98],[3.97],[3.98],[4.02],[4.05],[4.08],[4.14],[4.18],[4.21],[4.25],[4.29],[4.35],[4.38],[4.42]:}'\n",
    "log_storage_220_string = '{:[5.32],[5.31],[5.31],[5.30],[5.30],[5.29],[5.29],[5.28],[5.27],[5.26],[5.25],[5.24],[5.22],[5.20],[5.19],[5.17],[5.14],[5.11],[5.08],[5.03],[4.98],[4.90],[4.80]:}'\n",
    "log_loss_220_string = '{:[3.97],[3.96],[3.96],[3.98],[4.00],[4.00],[4.05],[4.08],[4.15],[4.23],[4.25],[4.29],[4.33],[4.35],[4.40],[4.45],[4.49],[4.53],[4.57],[4.61],[4.64],[4.67],[4.68]:}'\n",
    "log_storage_270_string = '{:[5.27],[5.26],[5.25],[5.24],[5.22],[5.21],[5.19],[5.17],[5.15],[5.12],[5.08],[5.04],[4.97],[4.90],[4.80],[4.67],[4.50],[4.26],[3.97],[3.64],[3.25]:}'\n",
    "log_loss_270_string = '{:[4.16],[4.20],[4.24],[4.30],[4.33],[4.36],[4.41],[4.44],[4.48],[4.52],[4.56],[4.60],[4.63],[4.66],[4.67],[4.65],[4.60],[4.51],[4.37],[4.19],[3.99]:}'\n",
    "\n",
    "# remove the curly braces, square brackets and split by comma to get individual values\n",
    "#frequency_string_stripped = frequency_string.strip('{}[]:').split(',')\n",
    "#log_storage_150_string_stripped = log_storage_150_string.strip('{}[]:').split(',')\n",
    "#log_loss_150_string_stripped =log_loss_150_string.strip('{}[]:').split(',')\n",
    "\n",
    "strings_to_strip = [frequency_string, log_storage_150_string, log_loss_150_string, log_storage_160_string, log_loss_160_string, log_storage_180_string, log_loss_180_string, log_storage_200_string, log_loss_200_string, log_storage_220_string, log_loss_220_string, log_storage_270_string, log_loss_270_string]\n",
    "stripped_strings = []\n",
    "\n",
    "for string in strings_to_strip:\n",
    "    stripped_string = string.strip('{}[]:').split(',')\n",
    "    stripped_strings.append(stripped_string)\n",
    "\n",
    "frequency_string_stripped, log_storage_150_string_stripped, log_loss_150_string_stripped, log_storage_160_string_stripped, log_loss_160_string_stripped, log_storage_180_string_stripped, log_loss_180_string_stripped, log_storage_200_string_stripped, log_loss_200_string_stripped, log_storage_220_string_stripped, log_loss_220_string_stripped, log_storage_270_string_stripped, log_loss_270_string_stripped = stripped_strings\n",
    "\n",
    "\n",
    "\n",
    "lists_to_convert = [frequency_string_stripped, log_storage_150_string_stripped, log_loss_150_string_stripped, log_storage_160_string_stripped, log_loss_160_string_stripped, log_storage_180_string_stripped, log_loss_180_string_stripped, log_storage_200_string_stripped, log_loss_200_string_stripped, log_storage_220_string_stripped, log_loss_220_string_stripped, log_storage_270_string_stripped, log_loss_270_string_stripped]\n",
    "converted_lists = []\n",
    "\n",
    "for arr in lists_to_convert:\n",
    "    converted_list = [float(val.strip('[]')) for val in arr]\n",
    "    converted_lists.append(converted_list)\n",
    "\n",
    "frequency_list, log_storage_150_list, log_loss_150_list, log_storage_160_list, log_loss_160_list, log_storage_180_list, log_loss_180_list, log_storage_200_list, log_loss_200_list, log_storage_220_list, log_loss_220_list, log_storage_270_list, log_loss_270_list = converted_lists\n",
    "\n",
    "lists_to_exponentiate = [frequency_list, log_storage_150_list, log_loss_150_list, log_storage_160_list, log_loss_160_list, log_storage_180_list, log_loss_180_list, log_storage_200_list, log_loss_200_list, log_storage_220_list, log_loss_220_list, log_storage_270_list, log_loss_270_list]\n",
    "print(frequency_list)\n",
    "print(log_storage_180_list)"
   ]
  },
  {
   "cell_type": "code",
   "execution_count": 197,
   "outputs": [
    {
     "name": "stdout",
     "output_type": "stream",
     "text": [
      "[206.43797415630826, 206.43797415630826, 204.38388199296807, 204.38388199296807, 202.35022838814749, 202.35022838814749, 200.33680997479166, 200.33680997479166, 198.34342540938118, 198.34342540938118, 196.3698753517984, 194.41596244539272, 192.4814912972456, 190.56626845863, 188.670102405666, 184.9341840706834, 181.27224187515122, 177.6828109933644]\n",
      "[59.14546984988227, 56.26091124712785, 53.51703422749116, 52.98453083967617, 53.51703422749116, 52.98453083967617, 53.51703422749116, 55.70110582679559, 57.39745704544619, 59.14546984988227, 62.80282144920165, 65.3658532140099, 67.35653981011657, 70.10541234668786, 72.96646849963281, 77.47846292526083, 79.8380334050845, 83.09628535834376]\n",
      "[2.36, 2.16, 1.96, 1.76, 1.56, 1.36, 1.16, 0.96, 0.76, 0.56, 0.36, 0.16, -0.04, -0.24, -0.44, -0.64, -0.84, -1.04, -1.2, -1.4, -1.6, -1.8, -2.04, -2.24, -2.44]\n"
     ]
    }
   ],
   "source": [
    "lists_to_exponentiate = [frequency_list, log_storage_150_list, log_loss_150_list, log_storage_160_list, log_loss_160_list, log_storage_180_list, log_loss_180_list, log_storage_200_list, log_loss_200_list, log_storage_220_list, log_loss_220_list, log_storage_270_list, log_loss_270_list]\n",
    "exponentiated_lists = []\n",
    "\n",
    "for lst in lists_to_exponentiate:\n",
    "    exponentiated_list = np.exp(lst).tolist()\n",
    "    exponentiated_lists.append(exponentiated_list)\n",
    "\n",
    "frequency_list_exponentiated, storage_150, loss_150, storage_160, loss_160, storage_180, loss_180, storage_200, loss_200, storage_220, loss_220, storage_270, loss_270 = exponentiated_lists\n",
    "\n",
    "storage_moduli = [storage_150, storage_160, storage_180, storage_200, storage_220, storage_270]\n",
    "loss_moduli = [loss_150, loss_160, loss_180, loss_200, loss_220, loss_270]\n",
    "\n",
    "print(storage_200)\n",
    "print(loss_200)\n",
    "\n",
    "print(frequency_list)"
   ],
   "metadata": {
    "collapsed": false,
    "pycharm": {
     "name": "#%%\n"
    }
   }
  },
  {
   "cell_type": "code",
   "execution_count": 198,
   "outputs": [
    {
     "name": "stdout",
     "output_type": "stream",
     "text": [
      "[3.0343583944356736, 2.886370989267957, 2.7456010150169154, 2.5599814183292726, 2.435129651289874, 2.33964685192599, 2.181472265498202, 2.0750806076741215, 1.9542373206359394, 1.8221188003905098, 1.6820276496988873, 1.5527072185113366, 1.4049475905635935, 1.271249150321405, 1.1388283833246216, 1.0202013400267556, 0.9048374180359599, 0.7788007830714048, 0.6703200460356393, 0.5769498103804865, 0.47711391552103427]\n"
     ]
    }
   ],
   "source": [
    "\n",
    "results = []\n",
    "for i in range(len(storage_moduli)):\n",
    "    result = []\n",
    "    for j in range(len(storage_moduli[i])):\n",
    "        result.append(storage_moduli[i][j] / loss_moduli[i][j])\n",
    "    results.append(result)\n",
    "loss_tangent_150, loss_tangent_160, loss_tangent_180, loss_tangent_200, loss_tangent_220, loss_tangent_270  = results\n",
    "loss_tangents = [loss_tangent_150, loss_tangent_160, loss_tangent_180, loss_tangent_200, loss_tangent_220, loss_tangent_270]\n",
    "print(loss_tangent_270)"
   ],
   "metadata": {
    "collapsed": false,
    "pycharm": {
     "name": "#%%\n"
    }
   }
  },
  {
   "cell_type": "code",
   "execution_count": 199,
   "outputs": [
    {
     "name": "stdout",
     "output_type": "stream",
     "text": [
      "[2.36, 2.16, 1.96, 1.76, 1.56, 1.36, 1.16, 0.96, 0.76, 0.56, 0.36, 0.16, -0.04, -0.24, -0.44, -0.64, -0.84, -1.04, -1.2, -1.4, -1.6, -1.8, -2.04, -2.24, -2.44]\n",
      "[4.72, 4.32, 3.92, 3.52, 3.12, 2.72, 2.32, 1.92, 1.52, 1.12, 0.72, 0.32, -0.08, -0.48, -0.88, -1.28, -1.68, -2.08, -2.4, -2.8, -3.2, -3.6, -4.08, -4.48, -4.88]\n"
     ]
    }
   ],
   "source": [
    "#Calculate Shifted Frequencies\n",
    "U = frequency_list\n",
    "A1 = 2\n",
    "# multiply the array by A1 using NumPy\n",
    "H = [A1 * x for x in U]\n",
    "print(U)\n",
    "print(H)"
   ],
   "metadata": {
    "collapsed": false,
    "pycharm": {
     "name": "#%%\n"
    }
   }
  },
  {
   "cell_type": "code",
   "execution_count": 244,
   "outputs": [
    {
     "name": "stdout",
     "output_type": "stream",
     "text": [
      "[4.72, 4.32, 3.92, 3.52, 3.12, 2.72, 2.32, 1.92, 1.52, 1.12, 0.72, 0.32, -0.08, -0.48, -0.88, -1.28, -1.68, -2.08, -2.4, -2.8, -3.2]\n"
     ]
    }
   ],
   "source": [
    "log_storage_lists = [log_storage_150_list, log_storage_160_list, log_storage_180_list, log_storage_200_list, log_storage_220_list, log_storage_270_list]\n",
    "log_storage_list_lengths = []\n",
    "\n",
    "for log_storage_list in log_storage_lists:\n",
    "    length = len(log_storage_list)\n",
    "    log_storage_list_lengths.append(length)\n",
    "length_150, length_160, length_180, length_200, length_220, length_270 = log_storage_list_lengths\n",
    "\n",
    "\n",
    "U_lists = []\n",
    "for i in log_storage_list_lengths:\n",
    "    U_list = U[:i]\n",
    "    U_lists.append(U_list)\n",
    "U_150, U_160, U_180, U_200, U_220, U_270 = U_lists\n",
    "\n",
    "H_lists = []\n",
    "for i in log_storage_list_lengths:\n",
    "    H_list = H[:i]\n",
    "    H_lists.append(H_list)\n",
    "H_150, H_160, H_180, H_200, H_220, H_270 = H_lists\n",
    "\n",
    "print(H_270)"
   ],
   "metadata": {
    "collapsed": false,
    "pycharm": {
     "name": "#%%\n"
    }
   }
  },
  {
   "cell_type": "code",
   "execution_count": null,
   "outputs": [],
   "source": [],
   "metadata": {
    "collapsed": false,
    "pycharm": {
     "name": "#%%\n"
    }
   }
  }
 ],
 "metadata": {
  "kernelspec": {
   "display_name": "Python 3",
   "language": "python",
   "name": "python3"
  },
  "language_info": {
   "codemirror_mode": {
    "name": "ipython",
    "version": 2
   },
   "file_extension": ".py",
   "mimetype": "text/x-python",
   "name": "python",
   "nbconvert_exporter": "python",
   "pygments_lexer": "ipython2",
   "version": "2.7.6"
  }
 },
 "nbformat": 4,
 "nbformat_minor": 0
}